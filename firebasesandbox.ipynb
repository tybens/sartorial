{
 "cells": [
  {
   "cell_type": "code",
   "execution_count": 2,
   "metadata": {},
   "outputs": [
    {
     "name": "stderr",
     "output_type": "stream",
     "text": [
      "/home/tybens/Desktop/projects/Sartorial/sartorial/.venv/lib/python3.11/site-packages/google/auth/_default.py:78: UserWarning: Your application has authenticated using end user credentials from Google Cloud SDK without a quota project. You might receive a \"quota exceeded\" or \"API not enabled\" error. See the following page for troubleshooting: https://cloud.google.com/docs/authentication/adc-troubleshooting/user-creds. \n",
      "  warnings.warn(_CLOUD_SDK_CREDENTIALS_WARNING)\n"
     ]
    }
   ],
   "source": [
    "from google.cloud import firestore\n",
    "\n",
    "# this works after logging into gcloud through the command line.\n",
    "db = firestore.Client(project=\"sartorial-indy\")"
   ]
  },
  {
   "attachments": {},
   "cell_type": "markdown",
   "metadata": {},
   "source": [
    "## Query for a random discount code that hasn't been used yet."
   ]
  },
  {
   "cell_type": "code",
   "execution_count": 11,
   "metadata": {},
   "outputs": [
    {
     "name": "stdout",
     "output_type": "stream",
     "text": [
      "10800687\n"
     ]
    }
   ],
   "source": [
    "# get the docs\n",
    "docs = db.collection(\"coupon\").document(\"hifi-23-concert-discounts\").collection(\"codes\").stream()\n",
    "for doc in docs:\n",
    "    if not doc.get('used'):\n",
    "        print(doc.id)\n",
    "        break\n"
   ]
  },
  {
   "attachments": {},
   "cell_type": "markdown",
   "metadata": {},
   "source": [
    "## Generate Discount Codes for Ticket Discounts BIFI 23"
   ]
  },
  {
   "cell_type": "code",
   "execution_count": 48,
   "metadata": {},
   "outputs": [],
   "source": [
    "import random\n",
    "\n",
    "# generate 100 random codes\n",
    "codes = [random.randint(10000000, 99999999) for _ in range(100)]"
   ]
  },
  {
   "cell_type": "code",
   "execution_count": 49,
   "metadata": {},
   "outputs": [],
   "source": [
    "# check for unique-ness\n",
    "for ind1, code1 in enumerate(codes):\n",
    "    for ind2, code2 in enumerate(codes):\n",
    "        if ind1 != ind2 and code1 == code2:\n",
    "            print(\"AHHH REPETITION FOUND\")"
   ]
  },
  {
   "cell_type": "code",
   "execution_count": 55,
   "metadata": {},
   "outputs": [],
   "source": [
    "# add the codes to the subcollection\n",
    "for code in codes:\n",
    "    db.collection(\"coupon\").document(\"hifi-23-concert-discounts\").collection(\"codes\").document(str(code)).set({\"used\": 0})\n",
    "\n"
   ]
  },
  {
   "cell_type": "code",
   "execution_count": 56,
   "metadata": {},
   "outputs": [
    {
     "name": "stdout",
     "output_type": "stream",
     "text": [
      "10800687\n",
      "12088318\n",
      "12424778\n",
      "13044222\n",
      "13305414\n",
      "14094698\n",
      "14120966\n",
      "15245970\n",
      "15739451\n",
      "16648996\n",
      "17061694\n",
      "17672390\n",
      "17700308\n",
      "17938506\n",
      "18284133\n",
      "18868056\n",
      "19014354\n",
      "20295137\n",
      "20822607\n",
      "21063588\n",
      "21086229\n",
      "21522464\n",
      "22570059\n",
      "23726189\n",
      "25527787\n",
      "25931022\n",
      "27801283\n",
      "27911433\n",
      "30272121\n",
      "30403476\n",
      "31207550\n",
      "31623215\n",
      "34070695\n",
      "34507249\n",
      "35739946\n",
      "37481235\n",
      "38100592\n",
      "38922791\n",
      "39056067\n",
      "40024492\n",
      "42095820\n",
      "44058418\n",
      "45681174\n",
      "46029930\n",
      "46491717\n",
      "48319771\n",
      "49289471\n",
      "49729504\n",
      "51940543\n",
      "51945364\n",
      "53180828\n",
      "53244036\n",
      "54056045\n",
      "55274130\n",
      "55625207\n",
      "56321877\n",
      "57994307\n",
      "59446818\n",
      "61346056\n",
      "64855529\n",
      "66595815\n",
      "67641859\n",
      "67710640\n",
      "68427217\n",
      "68700569\n",
      "69648722\n",
      "69980237\n",
      "70078469\n",
      "70469661\n",
      "71119804\n",
      "71430541\n",
      "71543581\n",
      "71826641\n",
      "73128268\n",
      "73137660\n",
      "74369408\n",
      "75234068\n",
      "75353785\n",
      "76993735\n",
      "77102781\n",
      "80421985\n",
      "81071773\n",
      "81654283\n",
      "81767431\n",
      "82734338\n",
      "82813365\n",
      "84572755\n",
      "85561436\n",
      "87662173\n",
      "87857311\n",
      "89775389\n",
      "91254987\n",
      "92606631\n",
      "93320955\n",
      "93981807\n",
      "94106177\n",
      "94483641\n",
      "95305689\n",
      "99351776\n",
      "99387486\n",
      "code1\n"
     ]
    }
   ],
   "source": [
    "# get the docs\n",
    "docs = db.collection(\"coupon\").document(\"hifi-23-concert-discounts\").collection(\"codes\").stream()\n",
    "for doc in docs:\n",
    "    print(f\"{doc.id}\")\n"
   ]
  },
  {
   "cell_type": "code",
   "execution_count": 60,
   "metadata": {},
   "outputs": [],
   "source": [
    "# for writing to the csv as per the request.\n",
    "import pandas as pd\n",
    "df = pd.DataFrame(codes)\n",
    "df.to_csv('discount_codes.csv', index=False, header=False)"
   ]
  }
 ],
 "metadata": {
  "kernelspec": {
   "display_name": "Python 3",
   "language": "python",
   "name": "python3"
  },
  "language_info": {
   "codemirror_mode": {
    "name": "ipython",
    "version": 3
   },
   "file_extension": ".py",
   "mimetype": "text/x-python",
   "name": "python",
   "nbconvert_exporter": "python",
   "pygments_lexer": "ipython3",
   "version": "3.11.3"
  },
  "orig_nbformat": 4
 },
 "nbformat": 4,
 "nbformat_minor": 2
}
